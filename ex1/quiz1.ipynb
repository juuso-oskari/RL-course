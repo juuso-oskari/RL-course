{
 "cells": [
  {
   "cell_type": "code",
   "execution_count": 13,
   "metadata": {},
   "outputs": [
    {
     "data": {
      "text/plain": [
       "array([[0.        , 0.        , 0.        ],\n",
       "       [0.        , 0.        , 2.        ],\n",
       "       [0.        , 1.8       , 2.        ],\n",
       "       ...,\n",
       "       [7.85645005, 8.72938894, 9.69932105],\n",
       "       [7.85645005, 8.72938894, 9.69932105],\n",
       "       [7.85645005, 8.72938894, 9.69932105]])"
      ]
     },
     "execution_count": 13,
     "metadata": {},
     "output_type": "execute_result"
    }
   ],
   "source": [
    "import numpy as np\n",
    "\n",
    "\"\"\"\n",
    "This is an example from AI course\n",
    "\"\"\"\n",
    "\n",
    "N = 10000\n",
    "\n",
    "v = np.zeros((N, 3))\n",
    "\n",
    "\n",
    "immediate_rewards = [0, 0, 0]\n",
    "\n",
    "\n",
    "\n",
    "for i in range(N - 1):\n",
    "    \n",
    "    v[i+1, 0] = 1.0 * (0+ 0.9 * v[i, 1])\n",
    "    \n",
    "    v[i+1, 1] = 1.0 * (0 + 0.9 * v[i, 2])\n",
    "    \n",
    "    v[i+1, 2] = 0.8 * (0 + 0.9 * v[i, 1]) + 0.2 * (10 + 0.9 * v[i, 0])\n",
    "    \n",
    "    \n",
    "v\n",
    "\n",
    "\n"
   ]
  },
  {
   "cell_type": "code",
   "execution_count": 23,
   "metadata": {},
   "outputs": [
    {
     "data": {
      "text/plain": [
       "array([[ 0. ,  0. ,  0. ],\n",
       "       [ 2. , 10. ,  8. ],\n",
       "       [ 5. , 12.5, 12.5],\n",
       "       ...,\n",
       "       [ 8. , 16. , 16. ],\n",
       "       [ 8. , 16. , 16. ],\n",
       "       [ 8. , 16. , 16. ]])"
      ]
     },
     "execution_count": 23,
     "metadata": {},
     "output_type": "execute_result"
    }
   ],
   "source": [
    "import numpy as np\n",
    "\n",
    "\"\"\"\n",
    "This is an example from AI course\n",
    "\"\"\"\n",
    "\n",
    "N = 1000\n",
    "\n",
    "v = np.zeros((N, 3))\n",
    "\n",
    "R = [4, 0, 16]\n",
    "\n",
    "for i in range(N - 1):\n",
    "    \n",
    "    v[i+1, 0] = 0.5 * (R[1] + 0.5 * v[i, 1]) + 0.5 * (R[0] + 0.5 * v[i, 0])\n",
    "    \n",
    "    v[i+1, 1] = 0.5 * (R[0] + 0.5 * v[i, 0]) + 0.5 * (R[2] + 0.5 * v[i, 2])\n",
    "    \n",
    "    v[i+1, 2] = 0.5 * (R[1] + 0.5 * v[i, 1]) + 0.5 * (R[2] + 0.5 * v[i, 2])\n",
    "    \n",
    "    \n",
    "v"
   ]
  },
  {
   "cell_type": "code",
   "execution_count": 25,
   "metadata": {},
   "outputs": [
    {
     "data": {
      "text/plain": [
       "array([[ 0.,  0.,  0.],\n",
       "       [ 4.,  0., 16.],\n",
       "       [ 5.,  5., 20.],\n",
       "       ...,\n",
       "       [ 8.,  8., 24.],\n",
       "       [ 8.,  8., 24.],\n",
       "       [ 8.,  8., 24.]])"
      ]
     },
     "execution_count": 25,
     "metadata": {},
     "output_type": "execute_result"
    }
   ],
   "source": [
    "import numpy as np\n",
    "\n",
    "\"\"\"\n",
    "This is an example from AI course\n",
    "\"\"\"\n",
    "\n",
    "N = 1000\n",
    "\n",
    "v = np.zeros((N, 3))\n",
    "\n",
    "R = [4, 0, 16]\n",
    "\n",
    "for i in range(N - 1):\n",
    "    \n",
    "    v[i+1, 0] = 0.5 * (R[0] + 0.5 * v[i, 1]) + 0.5 * (R[0] + 0.5 * v[i, 0])\n",
    "    \n",
    "    v[i+1, 1] = 0.5 * (R[1] + 0.5 * v[i, 0]) + 0.5 * (R[1] + 0.5 * v[i, 2])\n",
    "    \n",
    "    v[i+1, 2] = 0.5 * (R[2] + 0.5 * v[i, 1]) + 0.5 * (R[2] + 0.5 * v[i, 2])\n",
    "    \n",
    "    \n",
    "v"
   ]
  },
  {
   "cell_type": "code",
   "execution_count": 38,
   "metadata": {},
   "outputs": [
    {
     "data": {
      "text/plain": [
       "[-7.0, 0.0, 7.0]"
      ]
     },
     "execution_count": 38,
     "metadata": {},
     "output_type": "execute_result"
    }
   ],
   "source": [
    "\n",
    "N = 10\n",
    "V = np.zeros((N, 3))\n",
    "T1 = np.array([[0.5, 0.5, 0], [0.5, 0, 0.5], [0, 0.5, 0.5]])\n",
    "T2 = np.array([[0, 1, 0], [1, 0, 0], [1, 0, 0]])\n",
    "R = np.array([-7,0,7])\n",
    "\n",
    "discount = 0.5\n",
    "\n",
    "for i in range(N-1):\n",
    "    v_temp = []\n",
    "    for s in range(3):\n",
    "        a1 = R[s] + np.sum(discount * T1[s,:] @ V[i,:].T)\n",
    "        a2 = R[s] + np.sum(discount * T2[s,:] @ V[i,:].T)\n",
    "        v_temp.append(np.max([a1,a2]))\n",
    "        \n",
    "    V[i+1,:] = v_temp\n",
    "\n",
    "\n",
    "\n",
    "v_temp\n"
   ]
  },
  {
   "cell_type": "code",
   "execution_count": 29,
   "metadata": {},
   "outputs": [
    {
     "data": {
      "text/plain": [
       "array([0.5, 0.5])"
      ]
     },
     "execution_count": 29,
     "metadata": {},
     "output_type": "execute_result"
    }
   ],
   "source": [
    "np.array([[0.5, 0.5], [1, 0]])"
   ]
  }
 ],
 "metadata": {
  "kernelspec": {
   "display_name": "Python 3.8.10 ('venv': venv)",
   "language": "python",
   "name": "python3"
  },
  "language_info": {
   "codemirror_mode": {
    "name": "ipython",
    "version": 3
   },
   "file_extension": ".py",
   "mimetype": "text/x-python",
   "name": "python",
   "nbconvert_exporter": "python",
   "pygments_lexer": "ipython3",
   "version": "3.8.10"
  },
  "orig_nbformat": 4,
  "vscode": {
   "interpreter": {
    "hash": "d494827e359c00fa97dd673b365b7da8f10c55f62d576c5f176aba648c96cbc7"
   }
  }
 },
 "nbformat": 4,
 "nbformat_minor": 2
}
